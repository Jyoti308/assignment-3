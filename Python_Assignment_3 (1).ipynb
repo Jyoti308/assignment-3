{
  "nbformat": 4,
  "nbformat_minor": 0,
  "metadata": {
    "colab": {
      "provenance": []
    },
    "kernelspec": {
      "name": "python3",
      "display_name": "Python 3"
    },
    "language_info": {
      "name": "python"
    }
  },
  "cells": [
    {
      "cell_type": "markdown",
      "source": [
        "#ASSIGNMENT-3\n",
        "\n",
        "THEORY QUESTIONS"
      ],
      "metadata": {
        "id": "CSlOn8Sa5QdN"
      }
    },
    {
      "cell_type": "markdown",
      "source": [
        "**QUESTION-1**\n",
        "\n",
        "What is the difference between a function and a method in Python ?"
      ],
      "metadata": {
        "id": "Qm0JoL3A5Zmt"
      }
    },
    {
      "cell_type": "markdown",
      "source": [
        "Explanation-\n",
        "\n",
        "1) Method is called by its name but it is associated to an object(dependen).\n",
        "\n",
        "2) A method defination always includes 'self' as its first parameter.\n",
        "\n",
        "3) A method is implicitly passed to the object on which it is invoked.\n",
        "\n",
        "4) It may or may not return any data.\n",
        "\n",
        "5). A method can operate on the data that is contained by the corresponding class."
      ],
      "metadata": {
        "id": "Gl7zmMts5l0t"
      }
    },
    {
      "cell_type": "code",
      "execution_count": null,
      "metadata": {
        "colab": {
          "base_uri": "https://localhost:8080/"
        },
        "id": "04mZfO_f5MF9",
        "outputId": "20627d2a-d7cd-4fca-e744-ba549a250c0e"
      },
      "outputs": [
        {
          "output_type": "stream",
          "name": "stdout",
          "text": [
            "Ceiling value of 18.52 is: 19\n"
          ]
        }
      ],
      "source": [
        "import math\n",
        "ceil_val=math.ceil(18.52)\n",
        "print(\"Ceiling value of 18.52 is:\",ceil_val)\n"
      ]
    },
    {
      "cell_type": "code",
      "source": [
        "class Dog:\n",
        "  def my_method(self):\n",
        "    print(\"I am a Dog\")\n",
        "dog=Dog()\n",
        "dog.my_method()"
      ],
      "metadata": {
        "colab": {
          "base_uri": "https://localhost:8080/"
        },
        "id": "PNt7SmPL-KNV",
        "outputId": "064aaaf0-f8e7-4a63-a36f-a78b4931d327"
      },
      "execution_count": null,
      "outputs": [
        {
          "output_type": "stream",
          "name": "stdout",
          "text": [
            "I am a Dog\n"
          ]
        }
      ]
    },
    {
      "cell_type": "markdown",
      "source": [
        "Explanation-2\n",
        "\n",
        "1) Function is blick of code tha is also called by its name.\n",
        "\n",
        "2) The function can have different parameters or may not have any at all.\n",
        "\n",
        "3) It may or may not return any data.\n",
        "\n",
        "4) Function does not deal with class and its instance concept."
      ],
      "metadata": {
        "id": "lF-A_y_m6oH1"
      }
    },
    {
      "cell_type": "markdown",
      "source": [
        "Example of Functions"
      ],
      "metadata": {
        "id": "PK9Arz0N7VlN"
      }
    },
    {
      "cell_type": "code",
      "source": [
        "def subtract(a,b): #example of subtraction\n",
        "     return(a-b)\n",
        "print(subtract(10,12))"
      ],
      "metadata": {
        "colab": {
          "base_uri": "https://localhost:8080/"
        },
        "id": "oWV_w-aA7gJ9",
        "outputId": "2d58674d-3568-4962-9d6b-37890fe2c3b0"
      },
      "execution_count": null,
      "outputs": [
        {
          "output_type": "stream",
          "name": "stdout",
          "text": [
            "-2\n"
          ]
        }
      ]
    },
    {
      "cell_type": "code",
      "source": [
        "print(subtract(15,6))"
      ],
      "metadata": {
        "colab": {
          "base_uri": "https://localhost:8080/"
        },
        "id": "CFCDWgsX7xs9",
        "outputId": "33d429e3-f40e-431f-b487-07617724e583"
      },
      "execution_count": null,
      "outputs": [
        {
          "output_type": "stream",
          "name": "stdout",
          "text": [
            "9\n"
          ]
        }
      ]
    },
    {
      "cell_type": "code",
      "source": [
        "s=sum([6,15,2])#example of addition\n",
        "print(s)"
      ],
      "metadata": {
        "colab": {
          "base_uri": "https://localhost:8080/"
        },
        "id": "i5AmnmAf8BBE",
        "outputId": "7395e858-6157-4602-be96-c68848bc38f2"
      },
      "execution_count": null,
      "outputs": [
        {
          "output_type": "stream",
          "name": "stdout",
          "text": [
            "23\n"
          ]
        }
      ]
    },
    {
      "cell_type": "code",
      "source": [
        "mx=max(88,16)\n",
        "print(mx)"
      ],
      "metadata": {
        "colab": {
          "base_uri": "https://localhost:8080/"
        },
        "id": "dvm2UKKh8Ngl",
        "outputId": "6141ee54-55c9-455a-93fc-528f4dc8189f"
      },
      "execution_count": null,
      "outputs": [
        {
          "output_type": "stream",
          "name": "stdout",
          "text": [
            "88\n"
          ]
        }
      ]
    },
    {
      "cell_type": "markdown",
      "source": [
        "**Question-2**\n",
        "\n",
        "Explain the concept of function arguments and parameters in Python ?"
      ],
      "metadata": {
        "id": "-I3lyxLz--CF"
      }
    },
    {
      "cell_type": "markdown",
      "source": [
        "**Explanation-**\n",
        "\n",
        "**Arguments**--An argument is a value that is passed to a function when it is called. It might be a variable, value or object passed to a function or method as input. They are written when are calling the function.\n",
        "\n",
        "Types of arguments\n",
        "\n",
        "1) Positional argument\n",
        "\n",
        "2) Keyword Argument"
      ],
      "metadata": {
        "id": "vNvJtWI-_HpV"
      }
    },
    {
      "cell_type": "markdown",
      "source": [
        "**Parameters**- A parameter is the variable defines within the parentheses during function defination. Simply they are written when we declare a function."
      ],
      "metadata": {
        "id": "L5Kz2wMFANBE"
      }
    },
    {
      "cell_type": "code",
      "source": [
        "def sum(p,q):#example of parameter, in this p and q are parameters\n",
        "  print(p+q)\n",
        "sum(3,5)"
      ],
      "metadata": {
        "colab": {
          "base_uri": "https://localhost:8080/"
        },
        "id": "jX92OHmJAfJt",
        "outputId": "e44b922c-eb48-4672-dc4b-3ff5b7943a6f"
      },
      "execution_count": null,
      "outputs": [
        {
          "output_type": "stream",
          "name": "stdout",
          "text": [
            "8\n"
          ]
        }
      ]
    },
    {
      "cell_type": "code",
      "source": [
        "def meet(name,job_title, city):#example of argument\n",
        "  return f\"meet {name}, a {job_title} from {city}.\"\n",
        "meet1=meet('James', 'writer','Nashville')\n",
        "print(meet1)"
      ],
      "metadata": {
        "colab": {
          "base_uri": "https://localhost:8080/"
        },
        "id": "UGDuU4L-FCJl",
        "outputId": "3f648cdd-91df-4def-f19e-8e78d9e7b17e"
      },
      "execution_count": null,
      "outputs": [
        {
          "output_type": "stream",
          "name": "stdout",
          "text": [
            "meet James, a writer from Nashville.\n"
          ]
        }
      ]
    },
    {
      "cell_type": "markdown",
      "source": [
        "**Question-3**\n",
        "\n",
        "What are the different ways to define and call a function in Python?"
      ],
      "metadata": {
        "id": "tKdhKL8yFx0N"
      }
    },
    {
      "cell_type": "markdown",
      "source": [
        "Explanation-\n",
        "\n",
        "Python functions is a block of statements that return the specific task.\n",
        "\n",
        "The idea is o put some commonly or repeatedly done tasks together and make a function so that instead of writing the same code again and again for different inputs, we can do the function calls to reuse code contained in it over and over again.\n",
        "\n",
        "Python function declaration is\n",
        "\n",
        "def function_name(parameters):\n",
        "\n",
        "statement\n",
        "\n",
        "return expression\n",
        "\n",
        "in the above explanation def=keyword, function_name=function name, parameters=parameter\n",
        "\n",
        "statement=body of the statement"
      ],
      "metadata": {
        "id": "1xRarRBAGHZr"
      }
    },
    {
      "cell_type": "code",
      "source": [
        "def fun():\n",
        "  print(\"welcome to pwskills\")"
      ],
      "metadata": {
        "id": "E7umLIqoIEFd"
      },
      "execution_count": null,
      "outputs": []
    },
    {
      "cell_type": "markdown",
      "source": [
        "To get ouput from above code we have to call the function by using the name of the function Python followed by parenthesis containing parameters of that particular function."
      ],
      "metadata": {
        "id": "oVpuA_wSIXMl"
      }
    },
    {
      "cell_type": "code",
      "source": [
        "def fun():\n",
        "  print(\"Welcome to pwskills\")\n",
        "#code to call a function\n",
        "fun()"
      ],
      "metadata": {
        "colab": {
          "base_uri": "https://localhost:8080/"
        },
        "id": "SAwTp12rIqUk",
        "outputId": "ee44f819-b674-47c3-8724-19b4e0e33f80"
      },
      "execution_count": null,
      "outputs": [
        {
          "output_type": "stream",
          "name": "stdout",
          "text": [
            "Welcome to pwskills\n"
          ]
        }
      ]
    },
    {
      "cell_type": "markdown",
      "source": [
        "**Question-4**\n",
        "\n",
        "What is the purpose of the \"return\" statement in a Python function?\n",
        "\n"
      ],
      "metadata": {
        "id": "HZT24EfCJOEc"
      }
    },
    {
      "cell_type": "markdown",
      "source": [
        "A return statement is used to end the execution of the function call and \"return\" the result(value of the expression following the return keyword) to the caller. The statements after the return statements are not executed. If the return statement is without any expressin, then the special value None is returned. Return statement cannot be used outside the function."
      ],
      "metadata": {
        "id": "woFZXinmJsPU"
      }
    },
    {
      "cell_type": "code",
      "source": [
        "def add(p,q):\n",
        "  #returning sum of p and q\n",
        "  return p + q\n",
        "def is_true(p):\n",
        "  #returning boolean of p\n",
        "  return bool(p)\n",
        "  #calling function\n",
        "res=add(2,3)\n",
        "print(\"result of add function is{}\")\n",
        "res=is_true(2<5)\n",
        "print(\"result of is_true function is{}\")"
      ],
      "metadata": {
        "colab": {
          "base_uri": "https://localhost:8080/"
        },
        "id": "D3GRLIDJMIvk",
        "outputId": "df4d56df-f0b9-48b8-ceeb-78e35811d852"
      },
      "execution_count": null,
      "outputs": [
        {
          "output_type": "stream",
          "name": "stdout",
          "text": [
            "result of add function is{}\n",
            "result of is_true function is{}\n"
          ]
        }
      ]
    },
    {
      "cell_type": "markdown",
      "source": [
        "**Question-5**\n",
        "\n",
        "What are the iterators in Python and how do they differ from iterables."
      ],
      "metadata": {
        "id": "KCidzUCmGkHn"
      }
    },
    {
      "cell_type": "markdown",
      "source": [
        "Explanation-An iterator in Python is an object that is used to iterate over iterable objects like lists, tuples, dicts, and sets.\n",
        "\n",
        "Python iterable and python iterator are differnt. The main difference between them is, iterable in Python cannot save the state of the iteration, whereas in iterators the state of the current iteration gets saved.\n",
        "\n",
        "Every iteratir is also an iterable, but not every iterable is an iterator.\n",
        "\n",
        "**Example of iterator**"
      ],
      "metadata": {
        "id": "XESYpA9sHAJH"
      }
    },
    {
      "cell_type": "code",
      "source": [
        "string=\"ABC\"\n",
        "ch_iterator=iter(string)\n",
        "print(next(ch_iterator))\n",
        "print(next(ch_iterator))\n",
        "print(next(ch_iterator))"
      ],
      "metadata": {
        "colab": {
          "base_uri": "https://localhost:8080/"
        },
        "id": "_PYF55ylH_RU",
        "outputId": "d36a2649-da2e-43a2-bb0d-aa46eceb738e"
      },
      "execution_count": null,
      "outputs": [
        {
          "output_type": "stream",
          "name": "stdout",
          "text": [
            "A\n",
            "B\n",
            "C\n"
          ]
        }
      ]
    },
    {
      "cell_type": "markdown",
      "source": [
        "**Question-6**\n",
        "\n",
        "Explain the concept of generators in Python and how they are defined.\n",
        "\n"
      ],
      "metadata": {
        "id": "ZLtII7TmIZlj"
      }
    },
    {
      "cell_type": "markdown",
      "source": [
        "Explanation- A generator function in Python is defined like a normal function,but whenever it needs to generate a value, it does so with the yield keyword rather than return.If the body of a def containd yield, the function automatically becomes a Python generator function.\n",
        "\n",
        "Example of generator function"
      ],
      "metadata": {
        "id": "YHCD4jPqIneb"
      }
    },
    {
      "cell_type": "code",
      "source": [
        "def simpleGeneratorFun():\n",
        "  yield 1\n",
        "  yield 2\n",
        "  yield 3\n",
        "#a=generator object\n",
        "a=simpleGeneratorFun()\n",
        "print(next(a))\n",
        "print(next(a))\n",
        "print(next(a))"
      ],
      "metadata": {
        "colab": {
          "base_uri": "https://localhost:8080/"
        },
        "id": "DDvnUld1JTWC",
        "outputId": "046d4abe-1756-4f18-e72c-ab6735bc9d2c"
      },
      "execution_count": null,
      "outputs": [
        {
          "output_type": "stream",
          "name": "stdout",
          "text": [
            "1\n",
            "2\n",
            "3\n"
          ]
        }
      ]
    },
    {
      "cell_type": "markdown",
      "source": [
        "**Question-7**\n",
        "\n",
        "What are the advantages of using generators over regular functions."
      ],
      "metadata": {
        "id": "oFgJrUT8KOzd"
      }
    },
    {
      "cell_type": "markdown",
      "source": [
        "Explanation-\n",
        "\n",
        "1) Generator can be paused in the middle of execution and resumed whereas regular/normal function runs to completion and returns a value.\n",
        "\n",
        "2) Generator can return multiple values through multiple iterations instead of that normal function returns a single value.\n",
        "\n",
        "3)Generator keeps the current value in memory an normal function create a large amount of memory overhead.\n",
        "\n",
        "4) Generator are used generate values that can be iterated over whereas normal function are used when to perform a task and return a result.\n"
      ],
      "metadata": {
        "id": "m4tX3cE5KOlE"
      }
    },
    {
      "cell_type": "markdown",
      "source": [
        "**Question-8**\n",
        "\n",
        "What is a lambda function in Python and when is it typically used ?"
      ],
      "metadata": {
        "id": "txEy-FBKMy0S"
      }
    },
    {
      "cell_type": "markdown",
      "source": [
        "Explanation-Python lambda functions are anonymous functions means that the function is without a name.As we already know the def keyword is used to define a normal function in Python.Similarly, the lambda keyword is used to define an anonymous function.\n",
        "\n",
        "**Example of lambda function**"
      ],
      "metadata": {
        "id": "KppRp7RkNTsU"
      }
    },
    {
      "cell_type": "code",
      "source": [
        "Max=lambda a, b: a if(a>b) else b\n",
        "print(Max(1,2))"
      ],
      "metadata": {
        "colab": {
          "base_uri": "https://localhost:8080/"
        },
        "id": "hni1I5WkPBBW",
        "outputId": "90e39c93-c1bb-4ced-cd09-7da1aac053fd"
      },
      "execution_count": null,
      "outputs": [
        {
          "output_type": "stream",
          "name": "stdout",
          "text": [
            "2\n"
          ]
        }
      ]
    },
    {
      "cell_type": "markdown",
      "source": [
        "**Question-9**\n",
        "\n",
        "Explain the purpose and usage of the map() function in Python."
      ],
      "metadata": {
        "id": "VuduqjrSQDLW"
      }
    },
    {
      "cell_type": "markdown",
      "source": [
        "Explanation-\n",
        "\n",
        "map() function returns a map object of the results after applying the given function to each item of a given iterbale(list, tuple etc).\n",
        "\n",
        "syntax used-map(fun, iter)\n",
        "\n",
        "**Example of map() function**\n",
        "\n",
        "Lets double the value of an p"
      ],
      "metadata": {
        "id": "azqhThKIQiZL"
      }
    },
    {
      "cell_type": "code",
      "source": [
        "def addition(n):\n",
        "  return n + n\n",
        "numbers=(5,7,9,4,6)\n",
        "result=map(addition, numbers)\n",
        "print(list(result))"
      ],
      "metadata": {
        "colab": {
          "base_uri": "https://localhost:8080/"
        },
        "id": "X5FiA-waRIre",
        "outputId": "dde1df1c-b142-4296-e7ac-32a3ee25bb84"
      },
      "execution_count": null,
      "outputs": [
        {
          "output_type": "stream",
          "name": "stdout",
          "text": [
            "[10, 14, 18, 8, 12]\n"
          ]
        }
      ]
    },
    {
      "cell_type": "markdown",
      "source": [
        "**Question-10**\n",
        "\n",
        "What is the difference between map(), reduce() and filter fucntions in Python?"
      ],
      "metadata": {
        "id": "tDNbfz1AReiC"
      }
    },
    {
      "cell_type": "markdown",
      "source": [
        "Explanation-\n",
        "\n",
        "**Map function**- it returns a map object(which is an iterator) of the results after applying the given function to each item of a given iterable(list, tuple etc).\n",
        "\n",
        "syntax used--map(fun, iter)\n",
        "\n",
        "Example--lets double the p by using map function"
      ],
      "metadata": {
        "id": "xsYn2zGwRxZh"
      }
    },
    {
      "cell_type": "code",
      "source": [
        "def double(p):\n",
        "  return p*2\n",
        "numbers=[6,9,4,55,22]\n",
        "result=map(double, numbers)\n",
        "print(list(result))"
      ],
      "metadata": {
        "colab": {
          "base_uri": "https://localhost:8080/"
        },
        "id": "wv9yo-hMSZgg",
        "outputId": "c7a8ae7b-a8b9-4ec0-d613-587db0b5ca8a"
      },
      "execution_count": null,
      "outputs": [
        {
          "output_type": "stream",
          "name": "stdout",
          "text": [
            "[12, 18, 8, 110, 44]\n"
          ]
        }
      ]
    },
    {
      "cell_type": "markdown",
      "source": [
        "**Reduce function**-the reduce function is used to apply a particular fucntion passed in its argument to all of the list elements mentioned in the sequence passed along.This function is defines in\"functools\" module.\n",
        "\n",
        "syntax used--reduce(func,iterable[initial])\n",
        "\n",
        "**Example-lets find product of list elements**"
      ],
      "metadata": {
        "id": "7T0lZBB4SvK7"
      }
    },
    {
      "cell_type": "code",
      "source": [
        "import functools\n",
        "numbers=[4,5,7,6]\n",
        "product=functools.reduce(lambda x,y:x*y, numbers)\n",
        "print(\"product of list elements:\",product)"
      ],
      "metadata": {
        "colab": {
          "base_uri": "https://localhost:8080/"
        },
        "id": "VqV9uwgkTUsm",
        "outputId": "0f381cb7-c69b-4ddb-8f87-eb72739d81ce"
      },
      "execution_count": null,
      "outputs": [
        {
          "output_type": "stream",
          "name": "stdout",
          "text": [
            "product of list elements: 840\n"
          ]
        }
      ]
    },
    {
      "cell_type": "markdown",
      "source": [
        "**Filter function**-this method filters the given sequence with the help of a function that tests each element in the sequence to be true or not.\n",
        "\n",
        "Syntax used-filter(function, sequence)\n",
        "\n"
      ],
      "metadata": {
        "id": "1a_HrIfaTyEL"
      }
    },
    {
      "cell_type": "markdown",
      "source": [
        "**Question-11**\n",
        "\n",
        "Using pen & paper write the internal mechanism for sum operation using reduce function on this giiven list:[47,11,42,13]:"
      ],
      "metadata": {
        "id": "_8Yl5Ql8YIT9"
      }
    },
    {
      "cell_type": "markdown",
      "source": [
        "![answer 11-assignment-3, python.jpg](data:image/jpeg;base64,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)"
      ],
      "metadata": {
        "id": "UxizlS_tYcOn"
      }
    },
    {
      "cell_type": "markdown",
      "source": [
        "#Practical Questions"
      ],
      "metadata": {
        "id": "Tsicjpk4KC4l"
      }
    },
    {
      "cell_type": "markdown",
      "source": [
        "**Question-1**\n",
        "\n",
        "Write a python function that takes a list of numbers as input and returns the sum of all even numbers in the list."
      ],
      "metadata": {
        "id": "Ps6Xg-6pKLIC"
      }
    },
    {
      "cell_type": "code",
      "source": [
        "numbers=[2,1,3,6,8,4]\n",
        "odd_sum=0\n",
        "even_sum=0\n",
        "for sub in numbers:\n",
        "   for ele in str(sub):\n",
        "    if int(ele)% 2==0:\n",
        "      even_sum +=int(ele)\n",
        "    else:\n",
        "      odd_sum +=int(ele)\n",
        "print(\"odd digit sum:\"+str(odd_sum))\n",
        "print(\"even digit sum:\"+ str(even_sum))\n",
        "\n"
      ],
      "metadata": {
        "colab": {
          "base_uri": "https://localhost:8080/"
        },
        "id": "lgTjgOZhKbqy",
        "outputId": "f2703d2b-93b4-42a5-bc41-60bfd224434d"
      },
      "execution_count": 3,
      "outputs": [
        {
          "output_type": "stream",
          "name": "stdout",
          "text": [
            "odd digit sum:4\n",
            "even digit sum:20\n"
          ]
        }
      ]
    },
    {
      "cell_type": "markdown",
      "source": [
        "**Question-2**\n",
        "\n",
        "Create a Python function that accepts a string and returns the reverse of that string."
      ],
      "metadata": {
        "id": "c0zo1Ka5Mz8C"
      }
    },
    {
      "cell_type": "code",
      "source": [
        "s=\"data Analytics\"\n",
        "rev=s[::-1]\n",
        "print(rev)"
      ],
      "metadata": {
        "colab": {
          "base_uri": "https://localhost:8080/"
        },
        "id": "02AmJPfGNCcI",
        "outputId": "27747602-c243-4470-9ebe-9f50bc69e8a6"
      },
      "execution_count": 4,
      "outputs": [
        {
          "output_type": "stream",
          "name": "stdout",
          "text": [
            "scitylanA atad\n"
          ]
        }
      ]
    },
    {
      "cell_type": "markdown",
      "source": [
        "**Question-3**\n",
        "\n",
        "Implement a Python function that takes a list of integers and returns a new list containing the squares of each number."
      ],
      "metadata": {
        "id": "PFwPMWexNTEG"
      }
    },
    {
      "cell_type": "code",
      "source": [
        "my_list=[12,-15,14,16,11]\n",
        "final_list=list(map(lambda x:x*x,my_list))\n",
        "print(final_list)"
      ],
      "metadata": {
        "colab": {
          "base_uri": "https://localhost:8080/"
        },
        "id": "H7iv1clWNjp-",
        "outputId": "681f53cf-c724-41e4-d54d-ca8f0c044ceb"
      },
      "execution_count": 5,
      "outputs": [
        {
          "output_type": "stream",
          "name": "stdout",
          "text": [
            "[144, 225, 196, 256, 121]\n"
          ]
        }
      ]
    },
    {
      "cell_type": "markdown",
      "source": [
        "**Question-4**\n",
        "\n",
        "Write a Python fucntion that checks if a given number is prime or not from 1 to 200."
      ],
      "metadata": {
        "id": "XIUfw2brYUd6"
      }
    },
    {
      "cell_type": "markdown",
      "source": [
        "**Question-7**\n",
        "\n",
        "Implement a generator function that reads a file line by line and yields each line as string."
      ],
      "metadata": {
        "id": "wpy4ZXcCOY1Z"
      }
    },
    {
      "cell_type": "code",
      "source": [
        "L=[\"Data\\n\",\"Analytics\\n\",\"pwskills\\n\"]\n",
        "file1=open('myfile.txt','w')\n",
        "file1.writelines(L)\n",
        "file1.close()\n",
        "file1=open('myfile.txt','r')\n",
        "count=0\n",
        "print(\"using for loop\")\n",
        "for line in file1:\n",
        "  count +=1\n",
        "  print(\"Line{}:{}\".format(count,line.strip()))\n",
        "  file1.close"
      ],
      "metadata": {
        "colab": {
          "base_uri": "https://localhost:8080/"
        },
        "id": "P7IX78LIO5se",
        "outputId": "4c610135-f3db-4c18-8e50-6fd9c154f7de"
      },
      "execution_count": 7,
      "outputs": [
        {
          "output_type": "stream",
          "name": "stdout",
          "text": [
            "using for loop\n",
            "Line1:Data\n",
            "Line2:Analytics\n",
            "Line3:pwskills\n"
          ]
        }
      ]
    },
    {
      "cell_type": "markdown",
      "source": [
        "**Question-8**\n",
        "\n",
        "Use a lambda function in Python to sort a list of tuples based on the second element of each tuple."
      ],
      "metadata": {
        "id": "a7_ZTURRQf51"
      }
    },
    {
      "cell_type": "code",
      "source": [
        "test_list=[('a',2),('c',3),('d',4)]\n",
        "sort_order=[4,2,3]\n",
        "print(\"the original list is:\"+str(test_list))\n",
        "print(\"the sort order list is :\" +str(sort_order))\n",
        "res=[i for j in sort_order for i in filter(lambda k:k[1]==j, test_list)]\n",
        "print(\"The list after appropriate sorting:\"+str(res))"
      ],
      "metadata": {
        "colab": {
          "base_uri": "https://localhost:8080/"
        },
        "id": "BUwLcc9aQ2-b",
        "outputId": "3c2cad84-3bcc-4df6-af0e-622f2c1787fb"
      },
      "execution_count": 8,
      "outputs": [
        {
          "output_type": "stream",
          "name": "stdout",
          "text": [
            "the original list is:[('a', 2), ('c', 3), ('d', 4)]\n",
            "the sort order list is :[4, 2, 3]\n",
            "The list after appropriate sorting:[('d', 4), ('a', 2), ('c', 3)]\n"
          ]
        }
      ]
    },
    {
      "cell_type": "markdown",
      "source": [
        "**Question-9**\n",
        "\n",
        "Write a Python program that uses'map()' to convert a list of temperature from celsius to Fahrenheit."
      ],
      "metadata": {
        "id": "8j9k9uVAVF0D"
      }
    },
    {
      "cell_type": "code",
      "source": [
        "celsius=[20,70,37,100]\n",
        "fahrenheit=map(lambda c: (c*9/5)+ 32, celsius)\n",
        "print(list(fahrenheit))"
      ],
      "metadata": {
        "colab": {
          "base_uri": "https://localhost:8080/"
        },
        "id": "lbKFu0BHVjfr",
        "outputId": "1e39e750-80e2-4029-f93a-16803dbbfbde"
      },
      "execution_count": 9,
      "outputs": [
        {
          "output_type": "stream",
          "name": "stdout",
          "text": [
            "[68.0, 158.0, 98.6, 212.0]\n"
          ]
        }
      ]
    },
    {
      "cell_type": "markdown",
      "source": [
        "**Question-10**\n",
        "\n",
        "Create a python program that uses'filter()' to remove all the vowels from a given string.\n"
      ],
      "metadata": {
        "id": "qGxZh41CWyHC"
      }
    },
    {
      "cell_type": "code",
      "source": [
        "string=\"Physicwalla\"\n",
        "vowels=['a','e','i','o','u','A','E','I','O','U']\n",
        "result=\"\"\n",
        "for i in range(len(string)):\n",
        "  if string[i] not in vowels:\n",
        "    result=result + string[i]\n",
        "    print(\"\\nafter removing vowels:\",result)"
      ],
      "metadata": {
        "colab": {
          "base_uri": "https://localhost:8080/"
        },
        "id": "GchsSPILXIbv",
        "outputId": "97e05b64-b863-4f18-b6c4-990823caafc8"
      },
      "execution_count": 10,
      "outputs": [
        {
          "output_type": "stream",
          "name": "stdout",
          "text": [
            "\n",
            "after removing vowels: P\n",
            "\n",
            "after removing vowels: Ph\n",
            "\n",
            "after removing vowels: Phy\n",
            "\n",
            "after removing vowels: Phys\n",
            "\n",
            "after removing vowels: Physc\n",
            "\n",
            "after removing vowels: Physcw\n",
            "\n",
            "after removing vowels: Physcwl\n",
            "\n",
            "after removing vowels: Physcwll\n"
          ]
        }
      ]
    }
  ]
}